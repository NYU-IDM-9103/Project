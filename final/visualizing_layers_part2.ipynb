{
 "cells": [
  {
   "cell_type": "code",
   "execution_count": 1,
   "metadata": {},
   "outputs": [],
   "source": [
    "# !wget -q https://github.com/DM-GY-9103-2024F-H/9103-utils/raw/main/src/image_utils.py\n",
    "# !wget -q https://github.com/DM-GY-9103-2024F-H/WK14/raw/main/WK14_utils.py"
   ]
  },
  {
   "cell_type": "code",
   "execution_count": 2,
   "metadata": {},
   "outputs": [],
   "source": [
    "import torch\n",
    "import numpy as np\n",
    "import matplotlib.pyplot as plt\n",
    "\n",
    "from torch import nn, Tensor\n",
    "\n",
    "from torchvision.models import resnet34, ResNet34_Weights\n",
    "from torchvision.models import vgg19, VGG19_Weights\n",
    "from torchvision.transforms import v2\n",
    "\n",
    "from image_utils import make_image, open_image"
   ]
  },
  {
   "cell_type": "markdown",
   "metadata": {},
   "source": [
    "## 3. Deep dream with black input"
   ]
  },
  {
   "cell_type": "code",
   "execution_count": 3,
   "metadata": {},
   "outputs": [
    {
     "data": {
      "text/plain": [
       "<matplotlib.image.AxesImage at 0x7284e1fce150>"
      ]
     },
     "execution_count": 3,
     "metadata": {},
     "output_type": "execute_result"
    },
    {
     "data": {
      "image/png": "[encoded data removed]",
      "text/plain": [
       "<Figure size 640x480 with 1 Axes>"
      ]
     },
     "metadata": {},
     "output_type": "display_data"
    }
   ],
   "source": [
    "original_img = np.zeros((444, 444, 3))\n",
    "plt.imshow(original_img)"
   ]
  },
  {
   "cell_type": "code",
   "execution_count": 4,
   "metadata": {},
   "outputs": [],
   "source": [
    "img_mean = Tensor([0.485, 0.456, 0.406])\n",
    "img_std = Tensor([0.229, 0.224, 0.225])\n",
    "img_unmean = img_mean.reshape(3,1,1)\n",
    "img_unstd = img_std.reshape(3,1,1)\n",
    "\n",
    "def unprocess_image(img_t, scale=1):\n",
    "  img_t = img_t * img_unstd + img_unmean\n",
    "  img_t = img_t.squeeze().permute(1, 2, 0)\n",
    "  img_t = scale * img_t.clip(0.0, 1.0)\n",
    "  return img_t\n",
    "\n",
    "def clip_norm(device=\"cpu\"):\n",
    "  img_unmean = img_mean.reshape(3,1,1).to(device)\n",
    "  img_unstd = img_std.reshape(3,1,1).to(device)\n",
    "  def _clip_norm(img_t):\n",
    "    return img_t.clip(-img_unmean / img_unstd, (1 - img_unmean) / img_unstd)\n",
    "  return _clip_norm"
   ]
  },
  {
   "cell_type": "code",
   "execution_count": 5,
   "metadata": {},
   "outputs": [],
   "source": [
    "process_transform = v2.Compose([\n",
    "  v2.Resize(512),\n",
    "  v2.ToImage(),\n",
    "  v2.ConvertImageDtype(torch.float),\n",
    "  v2.Normalize(img_mean, img_std)\n",
    "])\n",
    "\n",
    "# Create Tensor for NN\n",
    "original_t = process_transform(original_img).unsqueeze(0)"
   ]
  },
  {
   "cell_type": "code",
   "execution_count": 6,
   "metadata": {},
   "outputs": [],
   "source": [
    "def make_deep_dream(original_t, model, lr):\n",
    "    \"\"\"\n",
    "    Apply deep dream model using select layers of VGG19 \n",
    "\n",
    "    Args:\n",
    "        orginal_t: input image that is passed through process_transform()\n",
    "        model: subset of pre-trained VGG19, i.e. first X layers of VGG19\n",
    "        lr: pre-defined learning rate.\n",
    "    \"\"\"\n",
    "\n",
    "    model_vgg = vgg19(weights=VGG19_Weights.DEFAULT).features.eval()\n",
    "    # layers = list(model_vgg.children())\n",
    "\n",
    "    ClipNorm = clip_norm(mdevice)\n",
    "\n",
    "    out = model(original_t.to(mdevice))\n",
    "\n",
    "    input_image = original_t.clone().to(mdevice)\n",
    "    input_image.requires_grad_(True)\n",
    "\n",
    "    for e in range(10):\n",
    "        model.zero_grad()\n",
    "        out = model(input_image)\n",
    "        loss = out.norm()\n",
    "        loss.backward()\n",
    "\n",
    "        avg_grad = input_image.grad.data.cpu().abs().mean()\n",
    "        norm_lr = lr / avg_grad\n",
    "\n",
    "        input_image.data += norm_lr * input_image.grad.data\n",
    "        input_image.data = ClipNorm(input_image.data)\n",
    "        input_image.grad.data.zero_()\n",
    "    \n",
    "    output_image = make_image(unprocess_image(input_image.to(\"cpu\"), 255))\n",
    "    \n",
    "    return output_image"
   ]
  },
  {
   "cell_type": "code",
   "execution_count": 7,
   "metadata": {},
   "outputs": [
    {
     "ename": "",
     "evalue": "",
     "output_type": "error",
     "traceback": [
      "\u001b[1;31mThe Kernel crashed while executing code in the current cell or a previous cell. \n",
      "\u001b[1;31mPlease review the code in the cell(s) to identify a possible cause of the failure. \n",
      "\u001b[1;31mClick <a href='https://aka.ms/vscodeJupyterKernelCrash'>here</a> for more info. \n",
      "\u001b[1;31mView Jupyter <a href='command:jupyter.viewOutput'>log</a> for further details."
     ]
    }
   ],
   "source": [
    "mdevice = \"cuda\" if torch.cuda.is_available() else \"cpu\"\n",
    "model_vgg = vgg19(weights=VGG19_Weights.DEFAULT).features.eval()\n",
    "\n",
    "lr = 1e-1\n",
    "final_layer = [6,13,20,29,35,36]\n",
    "\n",
    "for l in final_layer:\n",
    "    model = nn.Sequential(*list(model_vgg.children())[:l]).to(mdevice)\n",
    "    print (\"layer \"+ str(l-1) + \": \" + str(model[l-1]))\n",
    "    output_image = make_deep_dream(original_t, model, lr)\n",
    "    display(output_image)\n",
    "    \n",
    "    # Save the figure\n",
    "    output_path = os.path.join(\"output_imgs/deep_dream\", f\"layer_{l-1}.png\")\n",
    "    output_image.save(output_path)"
   ]
  },
  {
   "cell_type": "code",
   "execution_count": null,
   "metadata": {},
   "outputs": [],
   "source": [
    "# try with a completely white image\n",
    "white_img = np.ones((444, 444, 3))\n",
    "white_t = process_transform(white_img).unsqueeze(0)\n",
    "\n",
    "lr = 1e-1\n",
    "final_layer = [6,13,20,29,35,36]\n",
    "for l in final_layer:\n",
    "    model = nn.Sequential(*list(model_vgg.children())[:l]).to(mdevice)\n",
    "    print (\"layer \"+ str(l-1) + \": \" + str(model[l-1]))\n",
    "    output_image = make_deep_dream(white_t, model, lr)\n",
    "    display(output_image)\n",
    "    \n",
    "    # Save the figure\n",
    "    output_path = os.path.join(\"output_imgs/deep_dream\", f\"layer_{l-1}_white.png\")\n",
    "    output_image.save(output_path)"
   ]
  },
  {
   "cell_type": "code",
   "execution_count": null,
   "metadata": {},
   "outputs": [],
   "source": []
  }
 ],
 "metadata": {
  "kernelspec": {
   "display_name": "Python 3",
   "language": "python",
   "name": "python3"
  },
  "language_info": {
   "codemirror_mode": {
    "name": "ipython",
    "version": 3
   },
   "file_extension": ".py",
   "mimetype": "text/x-python",
   "name": "python",
   "nbconvert_exporter": "python",
   "pygments_lexer": "ipython3",
   "version": "3.12.1"
  }
 },
 "nbformat": 4,
 "nbformat_minor": 2
}
